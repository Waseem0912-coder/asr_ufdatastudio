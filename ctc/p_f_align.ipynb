{
 "cells": [
  {
   "cell_type": "code",
   "execution_count": null,
   "metadata": {},
   "outputs": [],
   "source": []
  },
  {
   "cell_type": "code",
   "execution_count": null,
   "metadata": {},
   "outputs": [],
   "source": []
  },
  {
   "cell_type": "code",
   "execution_count": null,
   "metadata": {},
   "outputs": [],
   "source": [
    "\n",
    "# Example usage\n",
    "audio_filepath = \"/blue/ufdatastudios/ahmed.waseem/mfa/svarah/single_file_test/audio_files/281474976879627_f1171_chunk_0.wav\"\n",
    "transcript = \"Is Gaia Green Tea avaliable for delivery in 2 hours?\"\n",
    "\n",
    "alignments = forced_align(audio_filepath, transcript)\n"
   ]
  },
  {
   "cell_type": "code",
   "execution_count": null,
   "metadata": {},
   "outputs": [],
   "source": []
  },
  {
   "cell_type": "code",
   "execution_count": null,
   "metadata": {},
   "outputs": [],
   "source": [
    "import pandas as pd\n",
    "\n",
    "phonetic_df = pd.read_csv(\"/blue/ufdatastudios/ahmed.waseem/phonetic_alignment_results.csv\")\n",
    "meta_df = pd.read_csv(\"/blue/ufdatastudios/ahmed.waseem/ctc/meta_speaker.csv\")\n",
    "\n",
    "phonetic_df['audio_filepath'] = phonetic_df['audio_filepath'].str.replace(\"/blue/ufdatastudios/ahmed.waseem/processed_audio/\", \"\", regex=False)\n",
    "\n",
    "merged_df = phonetic_df.merge(meta_df[['audio_filepath', 'text']], on='audio_filepath', how='left')\n",
    "\n",
    "merged_df.to_csv(\"merged_phonetic_alignment_results.csv\", index=False)\n",
    "\n",
    "print(merged_df.head())"
   ]
  },
  {
   "cell_type": "code",
   "execution_count": null,
   "metadata": {},
   "outputs": [],
   "source": []
  },
  {
   "cell_type": "code",
   "execution_count": null,
   "metadata": {},
   "outputs": [],
   "source": []
  }
 ],
 "metadata": {
  "kernelspec": {
   "display_name": "ctc",
   "language": "python=3.10",
   "name": "ctc_seg"
  },
  "language_info": {
   "codemirror_mode": {
    "name": "ipython",
    "version": 3
   },
   "file_extension": ".py",
   "mimetype": "text/x-python",
   "name": "python",
   "nbconvert_exporter": "python",
   "pygments_lexer": "ipython3",
   "version": "3.10.15"
  }
 },
 "nbformat": 4,
 "nbformat_minor": 2
}
